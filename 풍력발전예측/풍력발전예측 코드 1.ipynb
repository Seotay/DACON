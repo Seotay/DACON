{
 "cells": [
  {
   "cell_type": "markdown",
   "metadata": {},
   "source": [
    "## Baseline Code"
   ]
  },
  {
   "cell_type": "code",
   "execution_count": 169,
   "metadata": {},
   "outputs": [],
   "source": [
    "import random\n",
    "import pandas as pd\n",
    "import numpy as np\n",
    "import os\n",
    "\n",
    "import matplotlib.pyplot as plt\n",
    "import seaborn as sns"
   ]
  },
  {
   "cell_type": "code",
   "execution_count": 170,
   "metadata": {},
   "outputs": [],
   "source": [
    "# Fixed Random-Seed(랜덤 함수들이 동일한 시드에서 같은 랜덤값을 생성함.)\n",
    "def seed_everything(seed):\n",
    "    random.seed(seed) # random 모듈의 시드 설정\n",
    "    os.environ['PYTHONHASHSEED'] = str(seed) # 환경변수 설정\n",
    "    np.random.seed(seed) # Numpy에서 제공하는 랜덤 함수들이 동일한 시드에서 같은 랜덤 값을 생성함.\n",
    "\n",
    "    seed_everything(42) # Seed 고정"
   ]
  },
  {
   "cell_type": "markdown",
   "metadata": {},
   "source": [
    "## 데이터 불러오기"
   ]
  },
  {
   "cell_type": "code",
   "execution_count": 171,
   "metadata": {},
   "outputs": [],
   "source": [
    "train_df = pd.read_csv('./data/train.csv')\n",
    "test_df = pd.read_csv('./data/test.csv')\n",
    "submission = pd.read_csv('./data/sample_submission.csv')"
   ]
  },
  {
   "cell_type": "markdown",
   "metadata": {},
   "source": [
    "## 데이터 전처리"
   ]
  },
  {
   "cell_type": "code",
   "execution_count": 172,
   "metadata": {},
   "outputs": [],
   "source": [
    "train_df = train_df.fillna(0)"
   ]
  },
  {
   "cell_type": "code",
   "execution_count": 173,
   "metadata": {},
   "outputs": [],
   "source": [
    "train_df = train_df.rename(columns={ #train_df 열이름 변경\n",
    "    '건물번호': 'building_number',\n",
    "    '일시': 'date_time',\n",
    "    '기온(C)': 'temperature',\n",
    "    '강수량(mm)': 'rainfall',\n",
    "    '풍속(m/s)': 'windspeed',\n",
    "    '습도(%)': 'humidity',\n",
    "    '일조(hr)': 'sunshine',\n",
    "    '일사(MJ/m2)': 'solar_radiation',\n",
    "    '전력소비량(kWh)': 'power_consumption'\n",
    "})\n",
    "\n",
    "train_df.drop(['num_date_time'], axis = 1, inplace =True)  # num_date_time(= building_number + date_time)이므로, 제거\n",
    "\n",
    "test_df = test_df.rename(columns={ #test_df 열이름 변경\n",
    "    '건물번호': 'building_number',\n",
    "    '일시': 'date_time',\n",
    "    '기온(C)': 'temperature',\n",
    "    '강수량(mm)': 'rainfall',\n",
    "    '풍속(m/s)': 'windspeed',\n",
    "    '습도(%)': 'humidity'\n",
    "})\n",
    "\n",
    "test_df.drop('num_date_time', axis = 1, inplace =True) # num_date_time(= building_number + date_time)이므로, 제거"
   ]
  },
  {
   "cell_type": "code",
   "execution_count": 174,
   "metadata": {},
   "outputs": [],
   "source": [
    "# datetime을 년도, 월, 주, 시간으로 쪼갠다.\n",
    "train_df['date_time'] = pd.to_datetime(train_df['date_time'], format = '%Y%m%d %H')\n",
    "test_df['date_time'] = pd.to_datetime(test_df['date_time'], format = '%Y%m%d %H')\n",
    "\n",
    "\n",
    "\n",
    "# date time feature 생성\n",
    "train_df['hour'] = train_df['date_time'].dt.hour\n",
    "train_df['day'] = train_df['date_time'].dt.day\n",
    "train_df['month'] = train_df['date_time'].dt.month\n",
    "train_df['year'] = train_df['date_time'].dt.year\n",
    "\n",
    "test_df['hour'] = test_df['date_time'].dt.hour\n",
    "test_df['day'] = test_df['date_time'].dt.day\n",
    "test_df['month'] = test_df['date_time'].dt.month\n",
    "test_df['year'] = test_df['date_time'].dt.year"
   ]
  },
  {
   "cell_type": "code",
   "execution_count": 175,
   "metadata": {},
   "outputs": [
    {
     "name": "stdout",
     "output_type": "stream",
     "text": [
      "<class 'pandas.core.frame.DataFrame'>\n",
      "RangeIndex: 204000 entries, 0 to 203999\n",
      "Data columns (total 13 columns):\n",
      " #   Column             Non-Null Count   Dtype         \n",
      "---  ------             --------------   -----         \n",
      " 0   building_number    204000 non-null  int64         \n",
      " 1   date_time          204000 non-null  datetime64[ns]\n",
      " 2   temperature        204000 non-null  float64       \n",
      " 3   rainfall           204000 non-null  float64       \n",
      " 4   windspeed          204000 non-null  float64       \n",
      " 5   humidity           204000 non-null  float64       \n",
      " 6   sunshine           204000 non-null  float64       \n",
      " 7   solar_radiation    204000 non-null  float64       \n",
      " 8   power_consumption  204000 non-null  float64       \n",
      " 9   hour               204000 non-null  int64         \n",
      " 10  day                204000 non-null  int64         \n",
      " 11  month              204000 non-null  int64         \n",
      " 12  year               204000 non-null  int64         \n",
      "dtypes: datetime64[ns](1), float64(7), int64(5)\n",
      "memory usage: 20.2 MB\n"
     ]
    }
   ],
   "source": [
    "train_df.info()"
   ]
  },
  {
   "cell_type": "code",
   "execution_count": 176,
   "metadata": {},
   "outputs": [
    {
     "data": {
      "text/plain": [
       "count      24.000000\n",
       "mean     2451.036462\n",
       "std       548.862070\n",
       "min      1735.193839\n",
       "25%      1905.385732\n",
       "50%      2500.096996\n",
       "75%      3036.601163\n",
       "max      3110.862278\n",
       "Name: power_consumption, dtype: float64"
      ]
     },
     "execution_count": 176,
     "metadata": {},
     "output_type": "execute_result"
    }
   ],
   "source": [
    "# 일 기준 시간 평균 소비전력\n",
    "mean_power_by_hour = train_df.groupby('hour')['power_consumption'].mean()\n",
    "mean_power_by_hour.describe()"
   ]
  },
  {
   "cell_type": "code",
   "execution_count": 177,
   "metadata": {},
   "outputs": [],
   "source": [
    "# 낮 시간대에는 전력소모량이 증가하므로, 전력사용량에 따른 시간을 구분(1, 2, 3)해줌.\n",
    "def hour_session(hour):\n",
    "    if (7 <= hour <= 9) | (17<= hour <= 22): # 전력사용량이 2000 이상, 3000 미만\n",
    "        return 1\n",
    "    elif  10 <= hour <= 16: # 전력사용량이 3000 이상\n",
    "        return 2\n",
    "    else:\n",
    "        return 3 # 전력사용량이 2000 미만(그외)\n",
    "\n",
    "train_df['hour_session'] = train_df['hour'].apply(hour_session)\n",
    "test_df['hour_session'] = test_df['hour'].apply(hour_session)"
   ]
  },
  {
   "cell_type": "code",
   "execution_count": 178,
   "metadata": {},
   "outputs": [],
   "source": [
    "# 요일 추출(월요일: 0 ~ 일요일: 6)\n",
    "train_df['day_of_week'] = train_df['date_time'].dt.dayofweek\n",
    "test_df['day_of_week'] = test_df['date_time'].dt.dayofweek\n"
   ]
  },
  {
   "cell_type": "code",
   "execution_count": 179,
   "metadata": {},
   "outputs": [
    {
     "data": {
      "text/plain": [
       "day_of_week\n",
       "0    2488.521606\n",
       "1    2580.850905\n",
       "2    2518.146239\n",
       "3    2550.899919\n",
       "4    2561.655405\n",
       "5    2266.220305\n",
       "6    2185.368371\n",
       "Name: power_consumption, dtype: float64"
      ]
     },
     "execution_count": 179,
     "metadata": {},
     "output_type": "execute_result"
    }
   ],
   "source": [
    "# 요일별 전력 평균\n",
    "mean_power_by_day_of_week = train_df.groupby('day_of_week')['power_consumption'].mean()\n",
    "mean_power_by_day_of_week"
   ]
  },
  {
   "cell_type": "code",
   "execution_count": 180,
   "metadata": {},
   "outputs": [],
   "source": [
    "# 주말에는 평일에 비해 전력소모량이 적음. (평일:1, 주말: 0)으로 구분해줌.\n",
    "def day_of_week_session(day_of_week):\n",
    "    if 0 <= day_of_week <= 4: # 평일: 0~4\n",
    "        return 1\n",
    "    else:\n",
    "        return 0 # 주말: 5, 6\n",
    "\n",
    "train_df['day_of_week_session'] = train_df['day_of_week'].apply(day_of_week_session)\n",
    "test_df['day_of_week_session'] = test_df['day_of_week'].apply(day_of_week_session)"
   ]
  },
  {
   "cell_type": "markdown",
   "metadata": {},
   "source": [
    "## 모델링"
   ]
  },
  {
   "cell_type": "code",
   "execution_count": 181,
   "metadata": {},
   "outputs": [],
   "source": [
    "train_x = train_df.drop(columns = ['date_time', 'sunshine', 'solar_radiation', 'power_consumption'])\n",
    "train_y = train_df['power_consumption']"
   ]
  },
  {
   "cell_type": "code",
   "execution_count": 182,
   "metadata": {},
   "outputs": [],
   "source": [
    "x_test = test_df.drop(columns=['date_time'])"
   ]
  },
  {
   "cell_type": "markdown",
   "metadata": {},
   "source": [
    "## Regression Model Fit"
   ]
  },
  {
   "cell_type": "code",
   "execution_count": 215,
   "metadata": {},
   "outputs": [],
   "source": [
    "from sklearn.ensemble import RandomForestRegressor\n",
    "from sklearn.neighbors import KNeighborsRegressor\n",
    "\n",
    "from sklearn.model_selection import KFold\n",
    "from sklearn.model_selection import cross_val_score\n",
    "from sklearn.model_selection import train_test_split\n",
    "\n",
    "from sklearn.model_selection import GridSearchCV\n",
    "from sklearn.model_selection import RandomizedSearchCV\n",
    "from sklearn.metrics import accuracy_score"
   ]
  },
  {
   "cell_type": "code",
   "execution_count": 184,
   "metadata": {},
   "outputs": [
    {
     "name": "stdout",
     "output_type": "stream",
     "text": [
      "-2465443.3878222886\n",
      "-2471335.879383455\n",
      "-2553889.8670564815\n",
      "-2634706.215491025\n"
     ]
    }
   ],
   "source": [
    "KNR_3 = KNeighborsRegressor(n_jobs= -1, n_neighbors= 3) # 이웃의 수 3\n",
    "KNR_5 = KNeighborsRegressor(n_jobs = -1, n_neighbors= 5) # 이웃의 수 5 \n",
    "KNR_7 = KNeighborsRegressor(n_jobs= -1, n_neighbors= 7) # 이웃의 수 7\n",
    "KNR_9 = KNeighborsRegressor(n_jobs= -1, n_neighbors= 9) # 이웃의 수 9\n",
    "\n",
    "# KFold 교차 검증\n",
    "kfold = KFold(n_splits= 5, shuffle = True, random_state= 10) # 5 fold\n",
    "print(np.mean(cross_val_score(KNR_3, train_x, train_y, cv = kfold, scoring= 'neg_mean_squared_error')))\n",
    "print(np.mean(cross_val_score(KNR_5, train_x, train_y, cv = kfold, scoring= 'neg_mean_squared_error'))) # o\n",
    "print(np.mean(cross_val_score(KNR_7, train_x, train_y, cv = kfold, scoring= 'neg_mean_squared_error')))\n",
    "print(np.mean(cross_val_score(KNR_9, train_x, train_y, cv = kfold, scoring= 'neg_mean_squared_error')))"
   ]
  },
  {
   "cell_type": "code",
   "execution_count": 187,
   "metadata": {},
   "outputs": [],
   "source": [
    "train_x, test_x, train_y, test_y = train_test_split(train_x, train_y, test_size=0.3, random_state=42)"
   ]
  },
  {
   "cell_type": "code",
   "execution_count": 201,
   "metadata": {},
   "outputs": [
    {
     "name": "stdout",
     "output_type": "stream",
     "text": [
      "GridSearchCV 최고 -MSE: -687438.0996\n",
      "GridSearchCV 최적 파라미터:  {'max_depth': 7, 'min_samples_split': 50, 'n_estimators': 50}\n"
     ]
    }
   ],
   "source": [
    "param = {'min_samples_split' : [30, 50, 70],\n",
    "         'max_depth': [5, 6, 7],\n",
    "         'n_estimators': [50, 150, 250]}\n",
    "gs = GridSearchCV(estimator= RF, param_grid = param, cv = 5, refit = True, scoring = 'neg_mean_squared_error' )\n",
    "gs.fit(train_x, train_y)\n",
    "\n",
    "print('GridSearchCV 최고 -MSE: {0:.4f}'.format(gs.best_score_))\n",
    "print('GridSearchCV 최적 파라미터: ' , gs.best_params_)\n",
    "\n",
    "pred = gs.best_estimator_.predict(x_test)"
   ]
  },
  {
   "cell_type": "code",
   "execution_count": 209,
   "metadata": {},
   "outputs": [
    {
     "data": {
      "text/plain": [
       "RandomForestRegressor()"
      ]
     },
     "execution_count": 209,
     "metadata": {},
     "output_type": "execute_result"
    }
   ],
   "source": [
    "model = RandomForestRegressor() # 현재 점수가장 높음.\n",
    "model.fit(train_x, train_y)"
   ]
  },
  {
   "cell_type": "code",
   "execution_count": 223,
   "metadata": {},
   "outputs": [],
   "source": [
    "pred1 = model.predict(x_test)"
   ]
  },
  {
   "cell_type": "code",
   "execution_count": 212,
   "metadata": {},
   "outputs": [],
   "source": [
    "submission['answer'] = pred1"
   ]
  },
  {
   "cell_type": "code",
   "execution_count": 213,
   "metadata": {},
   "outputs": [],
   "source": [
    "submission.to_csv('./data/submission_7_30_3.csv', index = False)"
   ]
  },
  {
   "cell_type": "code",
   "execution_count": 214,
   "metadata": {},
   "outputs": [
    {
     "data": {
      "text/plain": [
       "array([2011.9248, 2134.0848, 2001.5376, ...,  761.088 ,  733.3704,\n",
       "        439.476 ])"
      ]
     },
     "execution_count": 214,
     "metadata": {},
     "output_type": "execute_result"
    }
   ],
   "source": []
  },
  {
   "cell_type": "code",
   "execution_count": null,
   "metadata": {},
   "outputs": [],
   "source": []
  }
 ],
 "metadata": {
  "kernelspec": {
   "display_name": "base",
   "language": "python",
   "name": "python3"
  },
  "language_info": {
   "codemirror_mode": {
    "name": "ipython",
    "version": 3
   },
   "file_extension": ".py",
   "mimetype": "text/x-python",
   "name": "python",
   "nbconvert_exporter": "python",
   "pygments_lexer": "ipython3",
   "version": "3.9.13"
  },
  "orig_nbformat": 4
 },
 "nbformat": 4,
 "nbformat_minor": 2
}
